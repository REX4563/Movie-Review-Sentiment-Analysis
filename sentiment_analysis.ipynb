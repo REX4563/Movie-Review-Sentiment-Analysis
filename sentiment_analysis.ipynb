{
 "cells": [
  {
   "cell_type": "markdown",
   "metadata": {},
   "source": [
    "All imports"
   ]
  },
  {
   "cell_type": "code",
   "execution_count": 55,
   "metadata": {},
   "outputs": [],
   "source": [
    "import os\n",
    "import json\n",
    "import numpy as np\n",
    "import pandas as pd\n",
    "from nltk.corpus import stopwords\n",
    "from nltk.tokenize import word_tokenize\n",
    "from nltk.stem import WordNetLemmatizer"
   ]
  },
  {
   "cell_type": "markdown",
   "metadata": {},
   "source": [
    "* Remember to delet the nltk.download('all') after the download is complete it is only required to run once."
   ]
  },
  {
   "cell_type": "code",
   "execution_count": 56,
   "metadata": {},
   "outputs": [],
   "source": [
    "# Delet this cell after running once\n",
    "\n",
    "import nltk\n",
    "#nltk.download('all')"
   ]
  },
  {
   "cell_type": "markdown",
   "metadata": {},
   "source": [
    "Loading the all the reviews in json file"
   ]
  },
  {
   "cell_type": "code",
   "execution_count": 57,
   "metadata": {},
   "outputs": [],
   "source": [
    "# Loading current directory\n",
    "\n",
    "current_directory = os.getcwd()\n",
    "\n",
    "# Loading the reviews.json file\n",
    "\n",
    "with open(fr'{current_directory}\\Data collection/reviews.json', encoding= 'utf-8') as f:\n",
    "    data = json.load(f)\n",
    "\n",
    "# Iterating through each item in the json file and storing them as dictionary of Movie : Review pairs in a list\n",
    "reviews_list = [{'Movie': movie, 'Review': review} for movie, review in data.items()]\n",
    "\n",
    "# Createing DataFrame from list of dictionaries\n",
    "df = pd.DataFrame(reviews_list)"
   ]
  },
  {
   "cell_type": "markdown",
   "metadata": {},
   "source": [
    "Preprocessing text"
   ]
  },
  {
   "cell_type": "code",
   "execution_count": 58,
   "metadata": {},
   "outputs": [],
   "source": [
    "# Loading stopwords\n",
    "\n",
    "stop_words = stopwords.words('english')\n",
    "\n",
    "def preprocessed_txt(text, stop_word):\n",
    "\n",
    "    # Tokenizing the text.\n",
    "\n",
    "    tokens = word_tokenize(text)\n",
    "\n",
    "    # Removing stopwords.\n",
    "\n",
    "    filtered_tokens = [token for token in tokens if token not in stop_word]\n",
    "\n",
    "    # Lemmetizing the tokens.\n",
    "\n",
    "    lemmetizer = WordNetLemmatizer()\n",
    "    lemmetized_token = [lemmetizer.lemmatize(token) for token in filtered_tokens]\n",
    "\n",
    "    # Joining the lemmetized tokens into string.\n",
    "\n",
    "    processed_text = ' '.join(lemmetized_token)\n",
    "\n",
    "    return processed_text"
   ]
  },
  {
   "cell_type": "markdown",
   "metadata": {},
   "source": [
    "Preprocessing using batch processing"
   ]
  },
  {
   "cell_type": "code",
   "execution_count": 59,
   "metadata": {},
   "outputs": [],
   "source": [
    "# Initializing the batch size.\n",
    "\n",
    "batch_size = 50\n",
    "total_reviews = len(df)\n",
    "\n",
    "# Applying the processed_txt function to each row of review column in the data frame in batch of 50 iterations for memory efficiency\n",
    "\n",
    "for i in range(0, total_reviews, batch_size):\n",
    "    df.loc[i:i+batch_size, 'Review'] = df.loc[i:i+batch_size, 'Review'].apply(preprocessed_txt, args=(stop_words,))"
   ]
  },
  {
   "cell_type": "markdown",
   "metadata": {},
   "source": [
    "Loading all positive and negative words"
   ]
  },
  {
   "cell_type": "code",
   "execution_count": 60,
   "metadata": {},
   "outputs": [],
   "source": [
    "# Loading the positive and negative words excel file\n",
    "\n",
    "PN_path = fr'{current_directory}/Positive and Negative Word List.xlsx'       # PN is abrivation for Positive Negative\n",
    "PN_df = pd.read_excel(PN_path)\n",
    "\n",
    "# Initializing negative words and positive words inside lists respectively\n",
    "\n",
    "negative_words = PN_df['Negative Sense Word List'].tolist()\n",
    "positive_words = PN_df['Positive Sense Word List'].tolist()"
   ]
  },
  {
   "cell_type": "markdown",
   "metadata": {},
   "source": [
    "Calculating poitive and negative scores\n",
    "\n",
    "* Numpy's np.isin() function is used to calculate the positive sore and negative score to speed up the process. np.isin() returns boolean array which is efficeant alternative to directly comparing the words potentially vectorizing the tokens and positive and negative words."
   ]
  },
  {
   "cell_type": "code",
   "execution_count": 61,
   "metadata": {},
   "outputs": [],
   "source": [
    "# Define functions to calculate positive, negative, subjectivity and polarity scores\n",
    "\n",
    "def P_score(review):\n",
    "    tokens = word_tokenize(review.lower())\n",
    "    positive_score = np.sum(np.isin(tokens, positive_words))\n",
    "    return positive_score\n",
    "\n",
    "def N_score(review):\n",
    "    tokens = word_tokenize(review.lower())\n",
    "    negative_score = np.sum(np.isin(tokens, negative_words))\n",
    "    return negative_score\n",
    "\n",
    "def sub_score(review):\n",
    "    tokens = word_tokenize(review.lower())\n",
    "    subjectivity_score = ((P_score(review) + N_score(review)) /(len(tokens) + 0.000001))\n",
    "    return subjectivity_score\n",
    "\n",
    "# Apply the functions to each review in the 'Review' column using vectorization\n",
    "\n",
    "df['positive_score'] = df['Review'].apply(P_score)\n",
    "df['negative_score'] = df['Review'].apply(N_score)\n",
    "df['polarity_score'] = df.apply(lambda row: (row['positive_score'] - row['negative_score'])/(row['positive_score'] + row['negative_score'] + 0.000001), axis=1)\n",
    "df['subjectivity_score'] = df['Review'].apply(sub_score)\n",
    "df.drop('Review', axis=1, inplace=True)"
   ]
  },
  {
   "cell_type": "markdown",
   "metadata": {},
   "source": [
    "Saving the file"
   ]
  },
  {
   "cell_type": "code",
   "execution_count": 62,
   "metadata": {},
   "outputs": [
    {
     "name": "stdout",
     "output_type": "stream",
     "text": [
      "File saved\n"
     ]
    },
    {
     "data": {
      "text/html": [
       "<div>\n",
       "<style scoped>\n",
       "    .dataframe tbody tr th:only-of-type {\n",
       "        vertical-align: middle;\n",
       "    }\n",
       "\n",
       "    .dataframe tbody tr th {\n",
       "        vertical-align: top;\n",
       "    }\n",
       "\n",
       "    .dataframe thead th {\n",
       "        text-align: right;\n",
       "    }\n",
       "</style>\n",
       "<table border=\"1\" class=\"dataframe\">\n",
       "  <thead>\n",
       "    <tr style=\"text-align: right;\">\n",
       "      <th></th>\n",
       "      <th>Movie</th>\n",
       "      <th>positive_score</th>\n",
       "      <th>negative_score</th>\n",
       "      <th>polarity_score</th>\n",
       "      <th>subjectivity_score</th>\n",
       "    </tr>\n",
       "  </thead>\n",
       "  <tbody>\n",
       "    <tr>\n",
       "      <th>0</th>\n",
       "      <td>10,000 BC</td>\n",
       "      <td>825</td>\n",
       "      <td>293</td>\n",
       "      <td>0.475850</td>\n",
       "      <td>0.278317</td>\n",
       "    </tr>\n",
       "    <tr>\n",
       "      <th>1</th>\n",
       "      <td>101 Dalmatians</td>\n",
       "      <td>674</td>\n",
       "      <td>185</td>\n",
       "      <td>0.569267</td>\n",
       "      <td>0.280261</td>\n",
       "    </tr>\n",
       "    <tr>\n",
       "      <th>2</th>\n",
       "      <td>13 Going on 30</td>\n",
       "      <td>715</td>\n",
       "      <td>177</td>\n",
       "      <td>0.603139</td>\n",
       "      <td>0.285897</td>\n",
       "    </tr>\n",
       "    <tr>\n",
       "      <th>3</th>\n",
       "      <td>1408</td>\n",
       "      <td>904</td>\n",
       "      <td>443</td>\n",
       "      <td>0.342242</td>\n",
       "      <td>0.256279</td>\n",
       "    </tr>\n",
       "    <tr>\n",
       "      <th>4</th>\n",
       "      <td>17 Again</td>\n",
       "      <td>1097</td>\n",
       "      <td>233</td>\n",
       "      <td>0.649624</td>\n",
       "      <td>0.280709</td>\n",
       "    </tr>\n",
       "    <tr>\n",
       "      <th>...</th>\n",
       "      <td>...</td>\n",
       "      <td>...</td>\n",
       "      <td>...</td>\n",
       "      <td>...</td>\n",
       "      <td>...</td>\n",
       "    </tr>\n",
       "    <tr>\n",
       "      <th>736</th>\n",
       "      <td>Zodiac</td>\n",
       "      <td>465</td>\n",
       "      <td>171</td>\n",
       "      <td>0.462264</td>\n",
       "      <td>0.280176</td>\n",
       "    </tr>\n",
       "    <tr>\n",
       "      <th>737</th>\n",
       "      <td>Zombieland</td>\n",
       "      <td>343</td>\n",
       "      <td>110</td>\n",
       "      <td>0.514349</td>\n",
       "      <td>0.285985</td>\n",
       "    </tr>\n",
       "    <tr>\n",
       "      <th>738</th>\n",
       "      <td>Zwartboek</td>\n",
       "      <td>634</td>\n",
       "      <td>197</td>\n",
       "      <td>0.525872</td>\n",
       "      <td>0.266688</td>\n",
       "    </tr>\n",
       "    <tr>\n",
       "      <th>739</th>\n",
       "      <td>[Rec]</td>\n",
       "      <td>687</td>\n",
       "      <td>268</td>\n",
       "      <td>0.438743</td>\n",
       "      <td>0.291247</td>\n",
       "    </tr>\n",
       "    <tr>\n",
       "      <th>740</th>\n",
       "      <td>Æon Flux</td>\n",
       "      <td>584</td>\n",
       "      <td>206</td>\n",
       "      <td>0.478481</td>\n",
       "      <td>0.281941</td>\n",
       "    </tr>\n",
       "  </tbody>\n",
       "</table>\n",
       "<p>741 rows × 5 columns</p>\n",
       "</div>"
      ],
      "text/plain": [
       "              Movie  positive_score  negative_score  polarity_score  \\\n",
       "0         10,000 BC             825             293        0.475850   \n",
       "1    101 Dalmatians             674             185        0.569267   \n",
       "2    13 Going on 30             715             177        0.603139   \n",
       "3              1408             904             443        0.342242   \n",
       "4          17 Again            1097             233        0.649624   \n",
       "..              ...             ...             ...             ...   \n",
       "736          Zodiac             465             171        0.462264   \n",
       "737      Zombieland             343             110        0.514349   \n",
       "738       Zwartboek             634             197        0.525872   \n",
       "739           [Rec]             687             268        0.438743   \n",
       "740        Æon Flux             584             206        0.478481   \n",
       "\n",
       "     subjectivity_score  \n",
       "0              0.278317  \n",
       "1              0.280261  \n",
       "2              0.285897  \n",
       "3              0.256279  \n",
       "4              0.280709  \n",
       "..                  ...  \n",
       "736            0.280176  \n",
       "737            0.285985  \n",
       "738            0.266688  \n",
       "739            0.291247  \n",
       "740            0.281941  \n",
       "\n",
       "[741 rows x 5 columns]"
      ]
     },
     "execution_count": 62,
     "metadata": {},
     "output_type": "execute_result"
    }
   ],
   "source": [
    "save_path = fr'{current_directory}/Sentiment_Analysis.xlsx'\n",
    "df.to_excel(save_path)\n",
    "print('File saved')\n",
    "df"
   ]
  }
 ],
 "metadata": {
  "kernelspec": {
   "display_name": ".venv",
   "language": "python",
   "name": "python3"
  },
  "language_info": {
   "codemirror_mode": {
    "name": "ipython",
    "version": 3
   },
   "file_extension": ".py",
   "mimetype": "text/x-python",
   "name": "python",
   "nbconvert_exporter": "python",
   "pygments_lexer": "ipython3",
   "version": "3.11.3"
  }
 },
 "nbformat": 4,
 "nbformat_minor": 2
}
