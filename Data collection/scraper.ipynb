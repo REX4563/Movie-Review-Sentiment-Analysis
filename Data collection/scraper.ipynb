{
 "cells": [
  {
   "cell_type": "markdown",
   "metadata": {},
   "source": [
    "All Imports"
   ]
  },
  {
   "cell_type": "code",
   "execution_count": 3,
   "metadata": {},
   "outputs": [],
   "source": [
    "import os\n",
    "import openpyxl\n",
    "import requests\n",
    "import pandas as pd\n",
    "from tqdm import tqdm\n",
    "from bs4 import BeautifulSoup"
   ]
  },
  {
   "cell_type": "markdown",
   "metadata": {},
   "source": [
    "Loading all the files"
   ]
  },
  {
   "cell_type": "code",
   "execution_count": 4,
   "metadata": {},
   "outputs": [],
   "source": [
    "current_dir = os.getcwd()"
   ]
  },
  {
   "cell_type": "code",
   "execution_count": 5,
   "metadata": {},
   "outputs": [],
   "source": [
    "def Loading_links():\n",
    "\n",
    "        path = fr'{current_dir}\\movielinks\\review links'\n",
    "        files = os.listdir(path)\n",
    "\n",
    "        review_links = []              # Appending links stored in the file of each iteration\n",
    "\n",
    "        for file in files:\n",
    "            workbook = openpyxl.load_workbook(path+'/'+file)\n",
    "            sheet = workbook['Sheet1']\n",
    "            for row in sheet.iter_rows(min_row = 2 ,values_only=True):\n",
    "                review_links.append(row[1])\n",
    "\n",
    "        return review_links\n",
    "\n",
    "review_links = Loading_links()"
   ]
  },
  {
   "cell_type": "markdown",
   "metadata": {},
   "source": [
    "Scraping the reviews"
   ]
  },
  {
   "cell_type": "code",
   "execution_count": 6,
   "metadata": {},
   "outputs": [
    {
     "name": "stderr",
     "output_type": "stream",
     "text": [
      "Processing: 100%|██████████| 19374/19374 [11:26:45<00:00,  2.13s/it]      \n"
     ]
    }
   ],
   "source": [
    "save_path = fr'{current_dir}\\Reviews'\n",
    "timeout_seconds = 10            # Setting up time out to avoid connection loss\n",
    "\n",
    "def scraper():\n",
    "\n",
    "    os.makedirs(save_path, exist_ok=True)  \n",
    "\n",
    "    with tqdm(total=len(review_links), desc=\"Processing\", leave=True) as pbar:\n",
    "        for link in review_links:\n",
    "\n",
    "            reviews = [] \n",
    "            headers = {'User-Agent': 'MyIMDbScraper/1.0 (https://github.com/yourusername/my-imdb-scraper)'}\n",
    "            \n",
    "            try:\n",
    "                page = requests.get(link, headers=headers, timeout=timeout_seconds).text\n",
    "                soup = BeautifulSoup(page, 'html.parser')\n",
    "                header = soup.find('div', class_='lister-item-header')\n",
    "                title = header.find('a').text\n",
    "                review = soup.find('div', class_='text show-more__control').text.strip()\n",
    "                reviews.append(review)\n",
    "\n",
    "                # Write or append the review to a file\n",
    "                file_path = os.path.join(save_path, f'{title}.txt')\n",
    "                if not os.path.exists(file_path):\n",
    "                    with open(file_path, 'w', encoding='utf-8') as f:\n",
    "                        f.write('\\n'.join(reviews))\n",
    "                else:\n",
    "                    with open(file_path, 'a', encoding='utf-8') as f:\n",
    "                        # Append a newline before adding the new review\n",
    "                        f.write('\\n\\n')\n",
    "                        f.write('\\n'.join(reviews))\n",
    "\n",
    "            except requests.Timeout:\n",
    "                pass\n",
    "            except Exception as e:\n",
    "                pass\n",
    "\n",
    "            pbar.update(1)  # Update the progress bar\n",
    "\n",
    "scraper()\n"
   ]
  }
 ],
 "metadata": {
  "kernelspec": {
   "display_name": ".venv",
   "language": "python",
   "name": "python3"
  },
  "language_info": {
   "codemirror_mode": {
    "name": "ipython",
    "version": 3
   },
   "file_extension": ".py",
   "mimetype": "text/x-python",
   "name": "python",
   "nbconvert_exporter": "python",
   "pygments_lexer": "ipython3",
   "version": "3.11.3"
  }
 },
 "nbformat": 4,
 "nbformat_minor": 2
}
